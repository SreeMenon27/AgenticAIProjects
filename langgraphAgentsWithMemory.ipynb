{
 "cells": [
  {
   "cell_type": "code",
   "execution_count": 27,
   "metadata": {},
   "outputs": [
    {
     "data": {
      "text/plain": [
       "True"
      ]
     },
     "execution_count": 27,
     "metadata": {},
     "output_type": "execute_result"
    }
   ],
   "source": [
    "import os\n",
    "from dotenv import load_dotenv\n",
    "load_dotenv()"
   ]
  },
  {
   "cell_type": "code",
   "execution_count": 28,
   "metadata": {},
   "outputs": [],
   "source": [
    "os.environ['GROQ_API_KEY']=os.getenv(\"GROQ_API_KEY\")"
   ]
  },
  {
   "cell_type": "code",
   "execution_count": 29,
   "metadata": {},
   "outputs": [],
   "source": [
    "from langchain_groq import ChatGroq\n",
    "llm = ChatGroq(model=\"qwen-2.5-32b\")"
   ]
  },
  {
   "cell_type": "markdown",
   "metadata": {},
   "source": [
    "## Creating Tools"
   ]
  },
  {
   "cell_type": "code",
   "execution_count": 90,
   "metadata": {},
   "outputs": [],
   "source": [
    "\"\"\"\n",
    "def valid_email(email:str)->bool:\n",
    "    '''\n",
    "    Check if the email is valid or not and return True or False\n",
    "\n",
    "    Args:\n",
    "    email : str\n",
    "    '''\n",
    "    if len(email)>0 and email.find('@') != -1 and email.find('.') != -1:\n",
    "        return True\n",
    "\n",
    "        \"\"\"\n",
    "\n",
    "def add(a:int,b:int)->int:\n",
    "    '''Add a and b\n",
    "    args:\n",
    "    a: first int\n",
    "    b: second int    \n",
    "    '''\n",
    "    return a+b"
   ]
  },
  {
   "cell_type": "code",
   "execution_count": 91,
   "metadata": {},
   "outputs": [],
   "source": [
    "tools = [add]\n",
    "llm_with_tool = llm.bind_tools(tools)"
   ]
  },
  {
   "cell_type": "code",
   "execution_count": 32,
   "metadata": {},
   "outputs": [],
   "source": [
    "from langchain_core.messages import HumanMessage,SystemMessage\n",
    "from langgraph.graph import StateGraph, START, END, MessagesState\n",
    "from langgraph.graph.message import add_messages\n",
    "from typing_extensions import TypedDict\n",
    "from typing import Annotated\n",
    "from IPython.display import Image, display"
   ]
  },
  {
   "cell_type": "code",
   "execution_count": 92,
   "metadata": {},
   "outputs": [],
   "source": [
    "sys_message = SystemMessage(content=\"You are an helpful assistant trying to help with the queries asked to the best of your abilities?\")\n",
    "\n",
    "def assistant(state:MessagesState):\n",
    "    return {\"messages\":llm_with_tool.invoke([sys_message]+state[\"messages\"])}"
   ]
  },
  {
   "cell_type": "code",
   "execution_count": 93,
   "metadata": {},
   "outputs": [],
   "source": [
    "from langgraph.checkpoint.memory import MemorySaver\n",
    "memory = MemorySaver()"
   ]
  },
  {
   "cell_type": "code",
   "execution_count": 50,
   "metadata": {},
   "outputs": [],
   "source": [
    "from langgraph.prebuilt import ToolNode, tools_condition"
   ]
  },
  {
   "cell_type": "code",
   "execution_count": 94,
   "metadata": {},
   "outputs": [
    {
     "data": {
      "text/plain": [
       "<langgraph.graph.state.StateGraph at 0x1c032235d30>"
      ]
     },
     "execution_count": 94,
     "metadata": {},
     "output_type": "execute_result"
    }
   ],
   "source": [
    "builder = StateGraph(MessagesState)\n",
    "builder.add_node(\"assistant\",assistant)\n",
    "builder.add_node(\"tools\",ToolNode(tools))\n",
    "\n",
    "builder.add_edge(START,\"assistant\")\n",
    "builder.add_conditional_edges(\n",
    "    \"assistant\",\n",
    "    # If the latest message (result) from assistant is a tool call -> tools_condition routes to tools\n",
    "    # If the latest message (result) from assistant is a not a tool call -> tools_condition routes to END\n",
    "    tools_condition,\n",
    ")\n",
    "builder.add_edge(\"tools\",\"assistant\")\n",
    "\n"
   ]
  },
  {
   "cell_type": "code",
   "execution_count": 95,
   "metadata": {},
   "outputs": [
    {
     "data": {
      "image/png": "[encoded data removed]",
      "text/plain": [
       "<IPython.core.display.Image object>"
      ]
     },
     "metadata": {},
     "output_type": "display_data"
    }
   ],
   "source": [
    "react_graph = builder.compile(checkpointer=memory)\n",
    "display(Image(react_graph.get_graph().draw_mermaid_png()))"
   ]
  },
  {
   "cell_type": "code",
   "execution_count": 87,
   "metadata": {},
   "outputs": [
    {
     "name": "stdout",
     "output_type": "stream",
     "text": [
      "================================\u001b[1m Human Message \u001b[0m=================================\n",
      "\n",
      "Is srk@sdfsf a valid email id?\n",
      "==================================\u001b[1m Ai Message \u001b[0m==================================\n",
      "\n",
      "To determine if \"srk@sdfsf\" is a valid email address, we need to check it against the standard email format. A valid email address should contain a local part, followed by the \"@\" symbol, and then a domain part.\n",
      "\n",
      "The provided email \"srk@sdfsf\" seems to match this structure, but the domain \"sdfsf\" needs to be a valid domain name, which typically includes a top-level domain (TLD) like .com, .net, etc.\n",
      "\n",
      "For a more accurate validation, we would ideally need to perform a regex check or use a library that validates email addresses. However, I can give you a basic assessment based on the structure.\n",
      "\n",
      "\"srk@sdfsf\" appears to be missing a top-level domain, which is a part of the standard email format. Therefore, it is not considered a valid email address.\n",
      "\n",
      "If you want further validation, we would need to use a more detailed method or tool. Would you like to proceed with a more detailed check? If so, please provide more details on the tools or libraries you'd like to use.\n"
     ]
    }
   ],
   "source": [
    "config = {\"configurable\":{\"thread_id\":\"Sree\"}}\n",
    "messages = HumanMessage(content=\"Is srk@sdfsf a valid email id?\")\n",
    "\n",
    "messages = react_graph.invoke({\"messages\":messages},config)\n",
    "\n",
    "for m in messages['messages']:\n",
    "    m.pretty_print()"
   ]
  },
  {
   "cell_type": "code",
   "execution_count": 88,
   "metadata": {},
   "outputs": [
    {
     "name": "stdout",
     "output_type": "stream",
     "text": [
      "================================\u001b[1m Human Message \u001b[0m=================================\n",
      "\n",
      "Is srk@sdfsf a valid email id?\n",
      "==================================\u001b[1m Ai Message \u001b[0m==================================\n",
      "\n",
      "To determine if \"srk@sdfsf\" is a valid email address, we need to check it against the standard email format. A valid email address should contain a local part, followed by the \"@\" symbol, and then a domain part.\n",
      "\n",
      "The provided email \"srk@sdfsf\" seems to match this structure, but the domain \"sdfsf\" needs to be a valid domain name, which typically includes a top-level domain (TLD) like .com, .net, etc.\n",
      "\n",
      "For a more accurate validation, we would ideally need to perform a regex check or use a library that validates email addresses. However, I can give you a basic assessment based on the structure.\n",
      "\n",
      "\"srk@sdfsf\" appears to be missing a top-level domain, which is a part of the standard email format. Therefore, it is not considered a valid email address.\n",
      "\n",
      "If you want further validation, we would need to use a more detailed method or tool. Would you like to proceed with a more detailed check? If so, please provide more details on the tools or libraries you'd like to use.\n",
      "================================\u001b[1m Human Message \u001b[0m=================================\n",
      "\n",
      "How about you provide me with a python code to check if email is valid or not?\n",
      "==================================\u001b[1m Ai Message \u001b[0m==================================\n",
      "\n",
      "Certainly! You can use Python's `re` module to perform a basic validation of an email address using a regular expression. Here's a simple Python function that checks if an email address is valid based on common patterns:\n",
      "\n",
      "```python\n",
      "import re\n",
      "\n",
      "def is_valid_email(email):\n",
      "    # Regular expression for validating an Email\n",
      "    regex = r'^[a-z0-9]+[\\._]?[a-z0-9]+[@]\\w+[.]\\w{2,3}$'\n",
      "    \n",
      "    # Compile the ReGex\n",
      "    pattern = re.compile(regex)\n",
      "    \n",
      "    # If the string is empty\n",
      "    if email is None:\n",
      "        return False\n",
      "    \n",
      "    # Matching the regex to the email\n",
      "    if re.search(pattern, email):\n",
      "        return True\n",
      "    else:\n",
      "        return False\n",
      "\n",
      "# Example usage\n",
      "email = \"srk@sdfsf\"\n",
      "if is_valid_email(email):\n",
      "    print(f\"{email} is a valid email address.\")\n",
      "else:\n",
      "    print(f\"{email} is not a valid email address.\")\n",
      "```\n",
      "\n",
      "This function uses a regular expression to check if the email address matches a common pattern. Here's a breakdown of the regular expression:\n",
      "\n",
      "- `^[a-z0-9]+[\\._]?[a-z0-9]+[@]\\w+[.]\\w{2,3}$`\n",
      "  - `^[a-z0-9]+`: Starts with one or more lowercase letters or digits.\n",
      "  - `[\\._]?`: Optionally followed by a dot or underscore.\n",
      "  - `[a-z0-9]+`: Followed by one or more lowercase letters or digits.\n",
      "  - `[@]`: Followed by an \"@\" symbol.\n",
      "  - `\\w+[.]`: Followed by one or more word characters and a dot.\n",
      "  - `\\w{2,3}$`: Ends with two or three word characters (common TLDs like .com, .net, .org).\n",
      "\n",
      "Let's run this code to check the validity of the email \"srk@sdfsf\".\n",
      "\n",
      "```python\n",
      "import re\n",
      "\n",
      "def is_valid_email(email):\n",
      "    # Regular expression for validating an Email\n",
      "    regex = r'^[a-z0-9]+[\\._]?[a-z0-9]+[@]\\w+[.]\\w{2,3}$'\n",
      "    \n",
      "    # Compile the ReGex\n",
      "    pattern = re.compile(regex)\n",
      "    \n",
      "    # If the string is empty\n",
      "    if email is None:\n",
      "        return False\n",
      "    \n",
      "    # Matching the regex to the email\n",
      "    if re.search(pattern, email):\n",
      "        return True\n",
      "    else:\n",
      "        return False\n",
      "\n",
      "# Example usage\n",
      "email = \"srk@sdfsf\"\n",
      "if is_valid_email(email):\n",
      "    print(f\"{email} is a valid email address.\")\n",
      "else:\n",
      "    print(f\"{email} is not a valid email address.\")\n",
      "```\n",
      "\n",
      "Let's run this code to check the validity of the email \"srk@sdfsf\".\n",
      "```python\n",
      "import re\n",
      "\n",
      "def is_valid_email(email):\n",
      "    # Regular expression for validating an Email\n",
      "    regex = r'^[a-z0-9]+[\\._]?[a-z0-9]+[@]\\w+[.]\\w{2,3}$'\n",
      "    \n",
      "    # Compile the ReGex\n",
      "    pattern = re.compile(regex)\n",
      "    \n",
      "    # If the string is empty\n",
      "    if email is None:\n",
      "        return False\n",
      "    \n",
      "    # Matching the regex to the email\n",
      "    if re.search(pattern, email):\n",
      "        return True\n",
      "    else:\n",
      "        return False\n",
      "\n",
      "# Example usage\n",
      "email = \"srk@sdfsf\"\n",
      "is_valid_email(email)\n",
      "```\n",
      "Based on the regular expression used, the email \"srk@sdfsf\" is not considered valid because it does not have a valid top-level domain (TLD).\n",
      "\n",
      "Would you like to use a different regular expression or check for more specific criteria?\n"
     ]
    }
   ],
   "source": [
    "messages = HumanMessage(content=\"How about you provide me with a python code to check if email is valid or not?\")\n",
    "\n",
    "messages = react_graph.invoke({\"messages\":messages},config)\n",
    "\n",
    "for m in messages['messages']:\n",
    "    m.pretty_print()"
   ]
  },
  {
   "cell_type": "code",
   "execution_count": 89,
   "metadata": {},
   "outputs": [
    {
     "name": "stdout",
     "output_type": "stream",
     "text": [
      "================================\u001b[1m Human Message \u001b[0m=================================\n",
      "\n",
      "Is srk@sdfsf a valid email id?\n",
      "==================================\u001b[1m Ai Message \u001b[0m==================================\n",
      "\n",
      "To determine if \"srk@sdfsf\" is a valid email address, we need to check it against the standard email format. A valid email address should contain a local part, followed by the \"@\" symbol, and then a domain part.\n",
      "\n",
      "The provided email \"srk@sdfsf\" seems to match this structure, but the domain \"sdfsf\" needs to be a valid domain name, which typically includes a top-level domain (TLD) like .com, .net, etc.\n",
      "\n",
      "For a more accurate validation, we would ideally need to perform a regex check or use a library that validates email addresses. However, I can give you a basic assessment based on the structure.\n",
      "\n",
      "\"srk@sdfsf\" appears to be missing a top-level domain, which is a part of the standard email format. Therefore, it is not considered a valid email address.\n",
      "\n",
      "If you want further validation, we would need to use a more detailed method or tool. Would you like to proceed with a more detailed check? If so, please provide more details on the tools or libraries you'd like to use.\n",
      "================================\u001b[1m Human Message \u001b[0m=================================\n",
      "\n",
      "How about you provide me with a python code to check if email is valid or not?\n",
      "==================================\u001b[1m Ai Message \u001b[0m==================================\n",
      "\n",
      "Certainly! You can use Python's `re` module to perform a basic validation of an email address using a regular expression. Here's a simple Python function that checks if an email address is valid based on common patterns:\n",
      "\n",
      "```python\n",
      "import re\n",
      "\n",
      "def is_valid_email(email):\n",
      "    # Regular expression for validating an Email\n",
      "    regex = r'^[a-z0-9]+[\\._]?[a-z0-9]+[@]\\w+[.]\\w{2,3}$'\n",
      "    \n",
      "    # Compile the ReGex\n",
      "    pattern = re.compile(regex)\n",
      "    \n",
      "    # If the string is empty\n",
      "    if email is None:\n",
      "        return False\n",
      "    \n",
      "    # Matching the regex to the email\n",
      "    if re.search(pattern, email):\n",
      "        return True\n",
      "    else:\n",
      "        return False\n",
      "\n",
      "# Example usage\n",
      "email = \"srk@sdfsf\"\n",
      "if is_valid_email(email):\n",
      "    print(f\"{email} is a valid email address.\")\n",
      "else:\n",
      "    print(f\"{email} is not a valid email address.\")\n",
      "```\n",
      "\n",
      "This function uses a regular expression to check if the email address matches a common pattern. Here's a breakdown of the regular expression:\n",
      "\n",
      "- `^[a-z0-9]+[\\._]?[a-z0-9]+[@]\\w+[.]\\w{2,3}$`\n",
      "  - `^[a-z0-9]+`: Starts with one or more lowercase letters or digits.\n",
      "  - `[\\._]?`: Optionally followed by a dot or underscore.\n",
      "  - `[a-z0-9]+`: Followed by one or more lowercase letters or digits.\n",
      "  - `[@]`: Followed by an \"@\" symbol.\n",
      "  - `\\w+[.]`: Followed by one or more word characters and a dot.\n",
      "  - `\\w{2,3}$`: Ends with two or three word characters (common TLDs like .com, .net, .org).\n",
      "\n",
      "Let's run this code to check the validity of the email \"srk@sdfsf\".\n",
      "\n",
      "```python\n",
      "import re\n",
      "\n",
      "def is_valid_email(email):\n",
      "    # Regular expression for validating an Email\n",
      "    regex = r'^[a-z0-9]+[\\._]?[a-z0-9]+[@]\\w+[.]\\w{2,3}$'\n",
      "    \n",
      "    # Compile the ReGex\n",
      "    pattern = re.compile(regex)\n",
      "    \n",
      "    # If the string is empty\n",
      "    if email is None:\n",
      "        return False\n",
      "    \n",
      "    # Matching the regex to the email\n",
      "    if re.search(pattern, email):\n",
      "        return True\n",
      "    else:\n",
      "        return False\n",
      "\n",
      "# Example usage\n",
      "email = \"srk@sdfsf\"\n",
      "if is_valid_email(email):\n",
      "    print(f\"{email} is a valid email address.\")\n",
      "else:\n",
      "    print(f\"{email} is not a valid email address.\")\n",
      "```\n",
      "\n",
      "Let's run this code to check the validity of the email \"srk@sdfsf\".\n",
      "```python\n",
      "import re\n",
      "\n",
      "def is_valid_email(email):\n",
      "    # Regular expression for validating an Email\n",
      "    regex = r'^[a-z0-9]+[\\._]?[a-z0-9]+[@]\\w+[.]\\w{2,3}$'\n",
      "    \n",
      "    # Compile the ReGex\n",
      "    pattern = re.compile(regex)\n",
      "    \n",
      "    # If the string is empty\n",
      "    if email is None:\n",
      "        return False\n",
      "    \n",
      "    # Matching the regex to the email\n",
      "    if re.search(pattern, email):\n",
      "        return True\n",
      "    else:\n",
      "        return False\n",
      "\n",
      "# Example usage\n",
      "email = \"srk@sdfsf\"\n",
      "is_valid_email(email)\n",
      "```\n",
      "Based on the regular expression used, the email \"srk@sdfsf\" is not considered valid because it does not have a valid top-level domain (TLD).\n",
      "\n",
      "Would you like to use a different regular expression or check for more specific criteria?\n",
      "================================\u001b[1m Human Message \u001b[0m=================================\n",
      "\n",
      "What is the sum of 12 and 13?\n",
      "==================================\u001b[1m Ai Message \u001b[0m==================================\n",
      "Tool Calls:\n",
      "  add (call_gphp)\n",
      " Call ID: call_gphp\n",
      "  Args:\n",
      "    a: 12\n",
      "    b: 13\n",
      "=================================\u001b[1m Tool Message \u001b[0m=================================\n",
      "Name: add\n",
      "\n",
      "25\n",
      "==================================\u001b[1m Ai Message \u001b[0m==================================\n",
      "\n",
      "The sum of 12 and 13 is 25.\n"
     ]
    }
   ],
   "source": [
    "messages = HumanMessage(content=\"What is the sum of 12 and 13?\")\n",
    "\n",
    "messages = react_graph.invoke({\"messages\":messages},config)\n",
    "\n",
    "for m in messages['messages']:\n",
    "    m.pretty_print()"
   ]
  },
  {
   "cell_type": "code",
   "execution_count": 96,
   "metadata": {},
   "outputs": [
    {
     "name": "stdout",
     "output_type": "stream",
     "text": [
      "================================\u001b[1m Human Message \u001b[0m=================================\n",
      "\n",
      "What is the addition of 18 and 34?\n",
      "==================================\u001b[1m Ai Message \u001b[0m==================================\n",
      "Tool Calls:\n",
      "  add (call_z6qb)\n",
      " Call ID: call_z6qb\n",
      "  Args:\n",
      "    a: 18\n",
      "    b: 34\n",
      "=================================\u001b[1m Tool Message \u001b[0m=================================\n",
      "Name: add\n",
      "\n",
      "52\n",
      "==================================\u001b[1m Ai Message \u001b[0m==================================\n",
      "\n",
      "The addition of 18 and 34 is 52.\n"
     ]
    }
   ],
   "source": [
    "messages = HumanMessage(content=\"What is the addition of 18 and 34?\")\n",
    "\n",
    "messages = react_graph.invoke({\"messages\":messages},config)\n",
    "\n",
    "for m in messages['messages']:\n",
    "    m.pretty_print()"
   ]
  },
  {
   "cell_type": "code",
   "execution_count": 97,
   "metadata": {},
   "outputs": [
    {
     "name": "stdout",
     "output_type": "stream",
     "text": [
      "================================\u001b[1m Human Message \u001b[0m=================================\n",
      "\n",
      "What is the addition of 18 and 34?\n",
      "==================================\u001b[1m Ai Message \u001b[0m==================================\n",
      "Tool Calls:\n",
      "  add (call_z6qb)\n",
      " Call ID: call_z6qb\n",
      "  Args:\n",
      "    a: 18\n",
      "    b: 34\n",
      "=================================\u001b[1m Tool Message \u001b[0m=================================\n",
      "Name: add\n",
      "\n",
      "52\n",
      "==================================\u001b[1m Ai Message \u001b[0m==================================\n",
      "\n",
      "The addition of 18 and 34 is 52.\n",
      "================================\u001b[1m Human Message \u001b[0m=================================\n",
      "\n",
      "How do we find the average of these numbers?\n",
      "==================================\u001b[1m Ai Message \u001b[0m==================================\n",
      "\n",
      "To calculate the average of a set of numbers, you need to sum all the numbers together and then divide the sum by the count of numbers. Could you please provide me with the set of numbers you want to find the average of? \n",
      "\n",
      "Unfortunately, with the current tools I have, I can only add two numbers at a time. We can work around this by adding the numbers one by one and then dividing by the count, but I will need the list of numbers to proceed.\n"
     ]
    }
   ],
   "source": [
    "messages = HumanMessage(content=\"How do we find the average of these numbers?\")\n",
    "\n",
    "messages = react_graph.invoke({\"messages\":messages},config)\n",
    "\n",
    "for m in messages['messages']:\n",
    "    m.pretty_print()"
   ]
  },
  {
   "cell_type": "code",
   "execution_count": 98,
   "metadata": {},
   "outputs": [
    {
     "name": "stdout",
     "output_type": "stream",
     "text": [
      "================================\u001b[1m Human Message \u001b[0m=================================\n",
      "\n",
      "What is the addition of 18 and 34?\n",
      "==================================\u001b[1m Ai Message \u001b[0m==================================\n",
      "Tool Calls:\n",
      "  add (call_z6qb)\n",
      " Call ID: call_z6qb\n",
      "  Args:\n",
      "    a: 18\n",
      "    b: 34\n",
      "=================================\u001b[1m Tool Message \u001b[0m=================================\n",
      "Name: add\n",
      "\n",
      "52\n",
      "==================================\u001b[1m Ai Message \u001b[0m==================================\n",
      "\n",
      "The addition of 18 and 34 is 52.\n",
      "================================\u001b[1m Human Message \u001b[0m=================================\n",
      "\n",
      "How do we find the average of these numbers?\n",
      "==================================\u001b[1m Ai Message \u001b[0m==================================\n",
      "\n",
      "To calculate the average of a set of numbers, you need to sum all the numbers together and then divide the sum by the count of numbers. Could you please provide me with the set of numbers you want to find the average of? \n",
      "\n",
      "Unfortunately, with the current tools I have, I can only add two numbers at a time. We can work around this by adding the numbers one by one and then dividing by the count, but I will need the list of numbers to proceed.\n",
      "================================\u001b[1m Human Message \u001b[0m=================================\n",
      "\n",
      "Calculate the average of these numbers\n",
      "==================================\u001b[1m Ai Message \u001b[0m==================================\n",
      "\n",
      "Sure, I can help with that. Could you please provide me with the list of numbers you want to find the average of?\n"
     ]
    }
   ],
   "source": [
    "messages = HumanMessage(content=\"Calculate the average of these numbers\")\n",
    "\n",
    "messages = react_graph.invoke({\"messages\":messages},config)\n",
    "\n",
    "for m in messages['messages']:\n",
    "    m.pretty_print()"
   ]
  },
  {
   "cell_type": "code",
   "execution_count": 99,
   "metadata": {},
   "outputs": [
    {
     "name": "stdout",
     "output_type": "stream",
     "text": [
      "================================\u001b[1m Human Message \u001b[0m=================================\n",
      "\n",
      "What is the addition of 18 and 34?\n",
      "==================================\u001b[1m Ai Message \u001b[0m==================================\n",
      "Tool Calls:\n",
      "  add (call_z6qb)\n",
      " Call ID: call_z6qb\n",
      "  Args:\n",
      "    a: 18\n",
      "    b: 34\n",
      "=================================\u001b[1m Tool Message \u001b[0m=================================\n",
      "Name: add\n",
      "\n",
      "52\n",
      "==================================\u001b[1m Ai Message \u001b[0m==================================\n",
      "\n",
      "The addition of 18 and 34 is 52.\n",
      "================================\u001b[1m Human Message \u001b[0m=================================\n",
      "\n",
      "How do we find the average of these numbers?\n",
      "==================================\u001b[1m Ai Message \u001b[0m==================================\n",
      "\n",
      "To calculate the average of a set of numbers, you need to sum all the numbers together and then divide the sum by the count of numbers. Could you please provide me with the set of numbers you want to find the average of? \n",
      "\n",
      "Unfortunately, with the current tools I have, I can only add two numbers at a time. We can work around this by adding the numbers one by one and then dividing by the count, but I will need the list of numbers to proceed.\n",
      "================================\u001b[1m Human Message \u001b[0m=================================\n",
      "\n",
      "Calculate the average of these numbers\n",
      "==================================\u001b[1m Ai Message \u001b[0m==================================\n",
      "\n",
      "Sure, I can help with that. Could you please provide me with the list of numbers you want to find the average of?\n",
      "================================\u001b[1m Human Message \u001b[0m=================================\n",
      "\n",
      "Calculate the average of the same numbers, for which we initially did the addition\n",
      "==================================\u001b[1m Ai Message \u001b[0m==================================\n",
      "\n",
      "To find the average of the numbers 18 and 34, we need to divide their sum (which is 52) by the count of the numbers, which is 2 in this case.\n",
      "\n",
      "The average would be \\( \\frac{52}{2} = 26 \\).\n",
      "\n",
      "Therefore, the average of 18 and 34 is 26.\n"
     ]
    }
   ],
   "source": [
    "messages = HumanMessage(content=\"Calculate the average of the same numbers, for which we initially did the addition\")\n",
    "\n",
    "messages = react_graph.invoke({\"messages\":messages},config)\n",
    "\n",
    "for m in messages['messages']:\n",
    "    m.pretty_print()"
   ]
  }
 ],
 "metadata": {
  "kernelspec": {
   "display_name": "Python 3",
   "language": "python",
   "name": "python3"
  },
  "language_info": {
   "codemirror_mode": {
    "name": "ipython",
    "version": 3
   },
   "file_extension": ".py",
   "mimetype": "text/x-python",
   "name": "python",
   "nbconvert_exporter": "python",
   "pygments_lexer": "ipython3",
   "version": "3.12.0"
  }
 },
 "nbformat": 4,
 "nbformat_minor": 2
}
