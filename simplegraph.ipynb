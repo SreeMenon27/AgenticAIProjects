{
 "cells": [
  {
   "cell_type": "code",
   "execution_count": 1,
   "metadata": {},
   "outputs": [],
   "source": [
    "from typing_extensions import TypedDict"
   ]
  },
  {
   "cell_type": "code",
   "execution_count": 4,
   "metadata": {},
   "outputs": [],
   "source": [
    "class State(TypedDict):\n",
    "    graph_state:str"
   ]
  },
  {
   "cell_type": "code",
   "execution_count": 5,
   "metadata": {},
   "outputs": [],
   "source": [
    "def node1(state):\n",
    "    print(\"Inside node1\")\n",
    "    return {\"graph_state\":state['graph_state']+\" Hi, this is first node.\"}\n",
    "\n",
    "def node2(state):\n",
    "    print(\"Inside node2\")\n",
    "    return {\"graph_state\":state['graph_state']+\" Now in second node.\"}\n",
    "\n",
    "def node3(state):\n",
    "    print(\"Inside node3\")\n",
    "    return {\"graph_state\":state['graph_state']+\" Now in third node.\"}"
   ]
  },
  {
   "cell_type": "code",
   "execution_count": 24,
   "metadata": {},
   "outputs": [],
   "source": [
    "import random\n",
    "from typing import Literal\n",
    "\n",
    "def decide_node(state)->Literal[\"node2\",\"node3\"]:\n",
    "    graph_state = state['graph_state']\n",
    "\n",
    "    if random.random()<0.5:\n",
    "        return 'node2'\n",
    "    \n",
    "    return 'node3'\n"
   ]
  },
  {
   "cell_type": "markdown",
   "metadata": {},
   "source": [
    "## Graph"
   ]
  },
  {
   "cell_type": "code",
   "execution_count": 29,
   "metadata": {},
   "outputs": [
    {
     "data": {
      "text/plain": [
       "<langgraph.graph.state.StateGraph at 0x18a8abdc860>"
      ]
     },
     "execution_count": 29,
     "metadata": {},
     "output_type": "execute_result"
    }
   ],
   "source": [
    "from IPython.display import Image, display\n",
    "from langgraph.graph import StateGraph, START, END\n",
    "\n",
    "builder = StateGraph(State)\n",
    "builder.add_node(\"node1\",node1)\n",
    "builder.add_node(\"node2\",node2)\n",
    "builder.add_node(\"node3\",node3)"
   ]
  },
  {
   "cell_type": "code",
   "execution_count": 30,
   "metadata": {},
   "outputs": [
    {
     "data": {
      "text/plain": [
       "<langgraph.graph.state.StateGraph at 0x18a8abdc860>"
      ]
     },
     "execution_count": 30,
     "metadata": {},
     "output_type": "execute_result"
    }
   ],
   "source": [
    "builder.add_edge(START,\"node1\")\n",
    "builder.add_conditional_edges(\"node1\",decide_node)\n",
    "builder.add_edge(\"node2\",END)\n",
    "builder.add_edge(\"node3\",END)"
   ]
  },
  {
   "cell_type": "code",
   "execution_count": 31,
   "metadata": {},
   "outputs": [
    {
     "data": {
      "image/png": "[encoded data removed]",
      "text/plain": [
       "<IPython.core.display.Image object>"
      ]
     },
     "metadata": {},
     "output_type": "display_data"
    }
   ],
   "source": [
    "graph = builder.compile()\n",
    "display(Image(graph.get_graph().draw_mermaid_png()))"
   ]
  },
  {
   "cell_type": "code",
   "execution_count": 35,
   "metadata": {},
   "outputs": [
    {
     "name": "stdout",
     "output_type": "stream",
     "text": [
      "Inside node1\n",
      "Inside node2\n"
     ]
    },
    {
     "data": {
      "text/plain": [
       "{'graph_state': 'Hi Hi, this is first node. Now in second node.'}"
      ]
     },
     "execution_count": 35,
     "metadata": {},
     "output_type": "execute_result"
    }
   ],
   "source": [
    "graph.invoke({\"graph_state\":\"Hi\"})"
   ]
  },
  {
   "cell_type": "markdown",
   "metadata": {},
   "source": [
    "## Basic Chatbot\n"
   ]
  },
  {
   "cell_type": "code",
   "execution_count": 38,
   "metadata": {},
   "outputs": [],
   "source": [
    "from typing import Annotated\n",
    "from typing_extensions import TypedDict\n",
    "\n",
    "from langgraph.graph import StateGraph, START, END\n",
    "from langgraph.graph.message import add_messages\n"
   ]
  },
  {
   "cell_type": "code",
   "execution_count": 40,
   "metadata": {},
   "outputs": [],
   "source": [
    "class State(TypedDict):\n",
    "    messages:Annotated[list,add_messages]"
   ]
  },
  {
   "cell_type": "code",
   "execution_count": 41,
   "metadata": {},
   "outputs": [],
   "source": [
    "import os\n",
    "from dotenv import load_dotenv\n",
    "\n",
    "load_dotenv()\n",
    "os.environ[\"GROQ_API_KEY\"]=os.getenv(\"GROQ_API_KEY\")"
   ]
  },
  {
   "cell_type": "code",
   "execution_count": 42,
   "metadata": {},
   "outputs": [],
   "source": [
    "from langchain_groq import ChatGroq\n",
    "llm = ChatGroq(model=\"gemma2-9b-it\")"
   ]
  },
  {
   "cell_type": "code",
   "execution_count": 43,
   "metadata": {},
   "outputs": [],
   "source": [
    "def ChatBot(state:State):\n",
    "    return {\"messages\":[llm.invoke(state[\"messages\"])]}"
   ]
  },
  {
   "cell_type": "code",
   "execution_count": 44,
   "metadata": {},
   "outputs": [],
   "source": [
    "builder = StateGraph(State)"
   ]
  },
  {
   "cell_type": "code",
   "execution_count": 45,
   "metadata": {},
   "outputs": [],
   "source": [
    "\n",
    "builder.add_node(\"chatbot\",ChatBot)\n",
    "builder.add_edge(START,\"chatbot\")\n",
    "builder.add_edge(\"chatbot\",END)\n",
    "graph = builder.compile()"
   ]
  },
  {
   "cell_type": "code",
   "execution_count": 48,
   "metadata": {},
   "outputs": [
    {
     "data": {
      "image/png": "[encoded data removed]",
      "text/plain": [
       "<IPython.core.display.Image object>"
      ]
     },
     "metadata": {},
     "output_type": "display_data"
    }
   ],
   "source": [
    "from IPython.display import Image, display\n",
    "display(Image(graph.get_graph().draw_mermaid_png()))"
   ]
  },
  {
   "cell_type": "code",
   "execution_count": 49,
   "metadata": {},
   "outputs": [
    {
     "data": {
      "text/plain": [
       "{'messages': [HumanMessage(content='Hi', additional_kwargs={}, response_metadata={}, id='e615db65-1a64-4881-ba56-e3ba1add7d84'),\n",
       "  AIMessage(content='Hi! 👋  How can I help you today?\\n', additional_kwargs={}, response_metadata={'token_usage': {'completion_tokens': 14, 'prompt_tokens': 11, 'total_tokens': 25, 'completion_time': 0.025454545, 'prompt_time': 0.002012686, 'queue_time': 0.031961671, 'total_time': 0.027467231}, 'model_name': 'gemma2-9b-it', 'system_fingerprint': 'fp_10c08bf97d', 'finish_reason': 'stop', 'logprobs': None}, id='run-b92a8bf5-4f27-4171-a8b7-d857ddd1c5fc-0', usage_metadata={'input_tokens': 11, 'output_tokens': 14, 'total_tokens': 25})]}"
      ]
     },
     "execution_count": 49,
     "metadata": {},
     "output_type": "execute_result"
    }
   ],
   "source": [
    "graph.invoke({\"messages\":\"Hi\"})"
   ]
  },
  {
   "cell_type": "code",
   "execution_count": 50,
   "metadata": {},
   "outputs": [],
   "source": [
    "def stream_graph_updates(user_input: str):\n",
    "    for event in graph.stream({\"messages\": [{\"role\": \"user\", \"content\": user_input}]}):\n",
    "        for value in event.values():\n",
    "            print(\"Assistant:\", value[\"messages\"][-1].content)"
   ]
  },
  {
   "cell_type": "code",
   "execution_count": 51,
   "metadata": {},
   "outputs": [
    {
     "name": "stdout",
     "output_type": "stream",
     "text": [
      "Assistant: Hi! 👋  How can I help you today? 😊\n",
      "\n",
      "Assistant: Langgraph is a **powerful open-source library for working with large language models (LLMs)**. It was developed by the HuggingFace team and is designed to simplify the process of **fine-tuning, evaluating, and deploying LLMs**.\n",
      "\n",
      "Here are some key features of Langgraph:\n",
      "\n",
      "* **Simplified fine-tuning:** Langgraph provides a user-friendly API for fine-tuning LLMs on custom datasets, making it easier for developers to adapt these powerful models to specific tasks.\n",
      "* **Comprehensive evaluation tools:** The library offers a suite of tools for evaluating the performance of LLMs on various benchmarks and tasks, allowing researchers and developers to accurately assess the capabilities of their models.\n",
      "* **Efficient deployment:** Langgraph facilitates the deployment of fine-tuned LLMs in production environments, enabling seamless integration into real-world applications.\n",
      "* **Strong community support:** As an open-source project, Langgraph benefits from a vibrant community of developers and researchers who contribute to its development and provide support to users.\n",
      "\n",
      "**Key advantages of using Langgraph:**\n",
      "\n",
      "* **Accessibility:** Its open-source nature makes it accessible to everyone, regardless of their resources.\n",
      "* **Efficiency:** Its streamlined workflows and optimized implementations accelerate the development process.\n",
      "* **Flexibility:** It supports a wide range of LLMs and tasks, catering to diverse use cases.\n",
      "* **Transparency:** The open-source nature allows for community scrutiny and collaboration, fostering trust and reliability.\n",
      "\n",
      "\n",
      "Overall, Langgraph is a valuable tool for anyone interested in exploring the potential of large language models. Its user-friendly interface, comprehensive features, and strong community support make it an ideal platform for both beginners and experienced developers.\n",
      "\n",
      "\n",
      "Assistant: As a language model, I don't have taste buds or personal preferences like liking ice cream!\n",
      "\n",
      "But I can tell you that some of the most popular flavors are:\n",
      "\n",
      "* **Chocolate**\n",
      "* **Vanilla**\n",
      "* **Strawberry**\n",
      "* **Mint chocolate chip**\n",
      "* **Cookies and cream**\n",
      "\n",
      "What's your favorite flavor?\n",
      "\n",
      "Assistant: Please provide me with some context or a question so I can assist you. \n",
      "\n",
      "For example, you could ask me:\n",
      "\n",
      "* **To write something:** \"Write a short story about a robot who learns to feel emotions.\"\n",
      "* **To answer a question:** \"What is the capital of France?\"\n",
      "* **To translate something:** \"Translate 'Hello, how are you?' into Spanish.\"\n",
      "* **To generate ideas:** \"Give me some ideas for a birthday party theme.\"\n",
      "\n",
      "\n",
      "I'm ready to help! \n",
      "\n",
      "Assistant: Please provide me with a prompt or question so I can assist you. For example, you could ask me to:\n",
      "\n",
      "* **Generate creative content:** Write a story, poem, or song.\n",
      "* **Provide information:** Answer a question about a specific topic.\n",
      "* **Translate languages:** Translate text from one language to another.\n",
      "* **Summarize text:** Condense a long piece of writing into a shorter summary.\n",
      "* **Engage in conversation:** Chat about a variety of topics.\n",
      "\n",
      "\n",
      "I'm ready to help!\n",
      "\n",
      "\n",
      "Assistant: Please provide me with some context or a question so I can assist you! \n",
      "\n",
      "For example, you could ask me:\n",
      "\n",
      "* **To write something:** \"Write a short story about a robot who learns to feel emotions.\"\n",
      "* **To answer a question:** \"What is the capital of France?\"\n",
      "* **To translate something:** \"Translate 'hello world' into Spanish.\"\n",
      "* **To summarize something:** \"Summarize the main plot points of the book *Pride and Prejudice*.\"\n",
      "\n",
      "\n",
      "I'm ready to help! 😊 \n",
      "\n",
      "Assistant: Please provide me with the context or the topic you want to discuss. \n",
      "\n",
      "For example, you could ask me:\n",
      "\n",
      "* **To write a story:** \"Write a short story about a robot who learns to feel emotions.\"\n",
      "* **To answer a question:** \"What is the capital of France?\"\n",
      "* **To generate creative content:** \"Give me some ideas for a birthday party theme.\"\n",
      "* **To translate text:** \"Translate 'Hello, world!' into Spanish.\"\n",
      "\n",
      "I'm here to help! Just let me know what you need. 😊 \n",
      "\n",
      "Assistant: Please provide me with a prompt or question so I can assist you. I can help with things like:\n",
      "\n",
      "* **Generating creative content:** stories, poems, articles, dialogue\n",
      "* **Answering questions:** providing information on a wide range of topics\n",
      "* **Summarizing text:** condensing long pieces of writing\n",
      "* **Translating languages:** converting text from one language to another\n",
      "* **Writing different kinds of creative text formats:**\n",
      "\n",
      "scripts, musical pieces, email, letters, etc.\n",
      "\n",
      "Let me know what you need! \n",
      "\n",
      "Goodbye!\n"
     ]
    }
   ],
   "source": [
    "while True:\n",
    "    try:\n",
    "        user_input = input(\"User: \")\n",
    "        if user_input.lower() in [\"quit\", \"exit\", \"q\"]:\n",
    "            print(\"Goodbye!\")\n",
    "            break\n",
    "\n",
    "        stream_graph_updates(user_input)\n",
    "    except:\n",
    "        # fallback if input() is not available\n",
    "        user_input = \"What do you know about LangGraph?\"\n",
    "        print(\"User: \" + user_input)\n",
    "        stream_graph_updates(user_input)\n",
    "        break"
   ]
  }
 ],
 "metadata": {
  "kernelspec": {
   "display_name": "Python 3",
   "language": "python",
   "name": "python3"
  },
  "language_info": {
   "codemirror_mode": {
    "name": "ipython",
    "version": 3
   },
   "file_extension": ".py",
   "mimetype": "text/x-python",
   "name": "python",
   "nbconvert_exporter": "python",
   "pygments_lexer": "ipython3",
   "version": "3.12.0"
  }
 },
 "nbformat": 4,
 "nbformat_minor": 2
}
